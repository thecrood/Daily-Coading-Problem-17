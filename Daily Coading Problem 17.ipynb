{
 "cells": [
  {
   "cell_type": "markdown",
   "id": "b9a18bb7",
   "metadata": {},
   "source": [
    "# daily Coading Problem 17"
   ]
  },
  {
   "cell_type": "raw",
   "id": "00ed62fd",
   "metadata": {},
   "source": [
    "This problem was asked by Google.\n",
    "\n",
    "Suppose we represent our file system by a string in the following manner:\n",
    "\n",
    "The string \"dir\\n\\tsubdir1\\n\\tsubdir2\\n\\t\\tfile.ext\" represents:\n",
    "\n",
    "dir\n",
    "    subdir1\n",
    "    subdir2\n",
    "        file.ext\n",
    "The directory dir contains an empty sub-directory subdir1 and a sub-directory subdir2 containing a file file.ext.\n",
    "\n",
    "The string \"dir\\n\\tsubdir1\\n\\t\\tfile1.ext\\n\\t\\tsubsubdir1\\n\\tsubdir2\\n\\t\\tsubsubdir2\\n\\t\\t\\tfile2.ext\" represents:\n",
    "\n",
    "dir\n",
    "    subdir1\n",
    "        file1.ext\n",
    "        subsubdir1\n",
    "    subdir2\n",
    "        subsubdir2\n",
    "            file2.ext\n",
    "The directory dir contains two sub-directories subdir1 and subdir2. subdir1 contains a file file1.ext and an empty second-level sub-directory subsubdir1. subdir2 contains a second-level sub-directory subsubdir2 containing a file file2.ext.\n",
    "\n",
    "We are interested in finding the longest (number of characters) absolute path to a file within our file system. For example, in the second example above, the longest absolute path is \"dir/subdir2/subsubdir2/file2.ext\", and its length is 32 (not including the double quotes).\n",
    "\n",
    "Given a string representing the file system in the above format, return the length of the longest absolute path to a file in the abstracted file system. If there is no file in the system, return 0.\n",
    "\n",
    "Note:\n",
    "\n",
    "The name of a file contains at least a period and an extension.\n",
    "\n",
    "The name of a directory or sub-directory will not contain a period."
   ]
  },
  {
   "cell_type": "markdown",
   "id": "8093adc8",
   "metadata": {},
   "source": [
    "There are two steps in solving this question: we must first parse the string representing the file system and then get the longest absolute path to a file."
   ]
  },
  {
   "cell_type": "markdown",
   "id": "8497a33d",
   "metadata": {},
   "source": [
    "# Step 1: Parsing the file system\n",
    "\n",
    "Ideally, we would initially parse the string given into a dictionary of some sort. That would mean a string like:\n",
    "\n",
    "dir\\n\\tsubdir1\\n\\t\\tfile1.ext\\n\\t\\tsubsubdir1\\n\\tsubdir2\\n\\t\\tsubsubdir2\\n\\t\\t\\tfile2.ext\n",
    "\n",
    "would become:"
   ]
  },
  {
   "cell_type": "code",
   "execution_count": 1,
   "id": "f8d0d497",
   "metadata": {},
   "outputs": [
    {
     "data": {
      "text/plain": [
       "{'dir': {'subdir1': {'file1.ext': True, 'subsubdir1': {}},\n",
       "  'subdir2': {'subsubdir2': {'file2.ext': True}}}}"
      ]
     },
     "execution_count": 1,
     "metadata": {},
     "output_type": "execute_result"
    }
   ],
   "source": [
    "{\n",
    "    \"dir\": {\n",
    "        \"subdir1\": {\n",
    "            \"file1.ext\": True,\n",
    "            \"subsubdir1\": {}\n",
    "        },\n",
    "        \"subdir2\": {\n",
    "            \"subsubdir2\": {\n",
    "                \"file2.ext\": True\n",
    "            }\n",
    "        }\n",
    "    }\n",
    "}"
   ]
  },
  {
   "cell_type": "markdown",
   "id": "54ea4bbf",
   "metadata": {},
   "source": [
    "where each key with a dictionary as its value represents a directory, and a key with True as its value represents an actual file.\n",
    "\n",
    "To achieve this, we can first split the string by the newline character, meaning each item in our array represents a file or directory. Then, we create an empty dictionary to represent our parsed file system and traverse the file system on each entry. We keep track of the last path we've seen so far in current_path because we may need to return to some level in that path, depending on the number of tabs. Once we are at the correct place to put down the new directory or file, we check the name for a . and set the correct value to either True (if file) or {} (if directory)."
   ]
  },
  {
   "cell_type": "code",
   "execution_count": 2,
   "id": "2e119c36",
   "metadata": {},
   "outputs": [],
   "source": [
    "def build_fs(input):\n",
    "    fs = {}\n",
    "    files = input.split('\\n')\n",
    "\n",
    "    current_path = []\n",
    "    for f in files:\n",
    "        indentation = 0\n",
    "        while '\\t' in f[:2]:\n",
    "            indentation += 1\n",
    "            f = f[1:]\n",
    "\n",
    "        current_node = fs\n",
    "        for subdir in current_path[:indentation]:\n",
    "            current_node = current_node[subdir]\n",
    "\n",
    "        if '.' in f:\n",
    "            current_node[f] = True\n",
    "        else:\n",
    "            current_node[f] = {}\n",
    "\n",
    "        current_path = current_path[:indentation]\n",
    "        current_path.append(f)\n",
    "\n",
    "    return fs"
   ]
  },
  {
   "cell_type": "markdown",
   "id": "8e0a9e1b",
   "metadata": {},
   "source": [
    "# Step 2: Computing the longest path\n",
    "\n",
    "After we've constructed a native representation of the file system, we can write a fairly straightforward recursive function that takes the current root, recursively calculates the longest_path of all the subdirectories and files under the root, and returns the longest one. Remember that since we specifically want the longest path to a file to discard any paths that do not have a . in them. And if there are no paths starting at this root, then we can simply return the empty string."
   ]
  },
  {
   "cell_type": "code",
   "execution_count": 3,
   "id": "2be59cca",
   "metadata": {},
   "outputs": [],
   "source": [
    "def longest_path(root):\n",
    "    paths = []\n",
    "    for key, node in root.items():\n",
    "        if node == True:\n",
    "            paths.append(key)\n",
    "        else:\n",
    "            paths.append(key + '/' + longest_path(node))\n",
    "    # filter out unfinished paths\n",
    "    paths = [path for path in paths if '.' in path]\n",
    "    if paths:\n",
    "        return max(paths, key=lambda path:len(path))\n",
    "    else:\n",
    "        return ''"
   ]
  },
  {
   "cell_type": "markdown",
   "id": "56e94437",
   "metadata": {},
   "source": [
    "# Step 3: Putting it together\n",
    "\n",
    "Now that the hard part is done, we just need to put the two together:\n",
    "\n"
   ]
  },
  {
   "cell_type": "code",
   "execution_count": null,
   "id": "8504d6a3",
   "metadata": {},
   "outputs": [],
   "source": [
    "def longest_absolute_path(s):\n",
    "    return len(longest_path(build_fs(s)))"
   ]
  },
  {
   "cell_type": "code",
   "execution_count": null,
   "id": "79251933",
   "metadata": {},
   "outputs": [],
   "source": []
  }
 ],
 "metadata": {
  "kernelspec": {
   "display_name": "Python 3 (ipykernel)",
   "language": "python",
   "name": "python3"
  },
  "language_info": {
   "codemirror_mode": {
    "name": "ipython",
    "version": 3
   },
   "file_extension": ".py",
   "mimetype": "text/x-python",
   "name": "python",
   "nbconvert_exporter": "python",
   "pygments_lexer": "ipython3",
   "version": "3.8.10"
  }
 },
 "nbformat": 4,
 "nbformat_minor": 5
}
